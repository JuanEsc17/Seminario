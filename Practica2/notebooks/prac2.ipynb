{
 "cells": [
  {
   "cell_type": "code",
   "execution_count": null,
   "metadata": {},
   "outputs": [],
   "source": [
    "import sys\n",
    "import os\n",
    "\n",
    "sys.path.append(os.path.abspath(\"../src\"))\n",
    "\n",
    "# Cuando intentaba hacer import funciones no funcionaba\n",
    "from funciones import isValidUser, isValidDate, codeGenerator, cleaner"
   ]
  },
  {
   "cell_type": "markdown",
   "metadata": {},
   "source": [
    "1. Análisis del Zen de Python\n",
    " Copie el texto del Zen de Python en una variable e imprima todas las líneas cuya segunda\n",
    " palabra comience con una vocal (A, E, I, O, U, a, e, i, o, u).\n",
    " El Zen de Python es una colección de principios que guían la filosofía de diseño de Python,\n",
    " escrita en forma de aforismos. Resalta la simplicidad, legibilidad y claridad en el código.\n",
    " Para verlo en Python, ejecute en la consola \n",
    "import this\n",
    " Para este punto debe colocar el contenido del Zen de python en una variable string:"
   ]
  },
  {
   "cell_type": "code",
   "execution_count": 24,
   "metadata": {},
   "outputs": [
    {
     "name": "stdout",
     "output_type": "stream",
     "text": [
      "Beautiful is better than ugly.\n",
      "Explicit is better than implicit.\n",
      "Simple is better than complex.\n",
      "Complex is better than complicated.\n",
      "Flat is better than nested.\n",
      "Sparse is better than dense.\n",
      "Unless explicitly silenced.\n",
      "Now is better than never.\n",
      "Namespaces are one honking great idea -- let's do more of those!\n"
     ]
    }
   ],
   "source": [
    "#Guardo el zen de python en una variable\n",
    "zen_text = \"\"\"Beautiful is better than ugly.\n",
    "Explicit is better than implicit.\n",
    "Simple is better than complex.\n",
    "Complex is better than complicated.\n",
    "Flat is better than nested.\n",
    "Sparse is better than dense.\n",
    "Readability counts.\n",
    "Special cases aren't special enough to break the rules.\n",
    "Although practicality beats purity.\n",
    "Errors should never pass silently.\n",
    "Unless explicitly silenced.\n",
    "In the face of ambiguity, refuse the temptation to guess.\n",
    "There should be one-- and preferably only one --obvious way to do it.\n",
    "Although that way may not be obvious at first unless you're Dutch.\n",
    "Now is better than never.\n",
    "Although never is often better than *right* now.\n",
    "If the implementation is hard to explain, it's a bad idea.\n",
    "If the implementation is easy to explain, it may be a good idea.\n",
    "Namespaces are one honking great idea -- let's do more of those!\"\"\"\n",
    "\n",
    "#Verifico si la segunda palabra de cada linea inicia con vocal\n",
    "for line in zen_text.split('\\n'):\n",
    "    if line.split()[1][0].lower() in \"aeiou\":\n",
    "        print(line)"
   ]
  },
  {
   "cell_type": "markdown",
   "metadata": {},
   "source": [
    " 2. Título más largo\n",
    " Dado un listado de títulos de streams en Twitch:\n",
    " titles = [\n",
    " \"Speedrun de Super Mario en tiempo récord\",\n",
    "\"Charla sobre desarrollo de videojuegos\",\n",
    " \"Jugando al nuevo FPS del momento con amigos\",\n",
    " \"Música en vivo: improvisaciones al piano\"\n",
    " ]\n",
    " Encuentre el título con más palabras y muéstrelo en pantalla."
   ]
  },
  {
   "cell_type": "code",
   "execution_count": 25,
   "metadata": {},
   "outputs": [
    {
     "name": "stdout",
     "output_type": "stream",
     "text": [
      "El título más largo es: Jugando al nuevo FPS del momento con amigos\n"
     ]
    }
   ],
   "source": [
    "titles = [\n",
    " \"Speedrun de Super Mario en tiempo récord\",\n",
    "\"Charla sobre desarrollo de videojuegos\",\n",
    " \"Jugando al nuevo FPS del momento con amigos\",\n",
    " \"Música en vivo: improvisaciones al piano\"\n",
    " ]\n",
    "\n",
    "#Busco el titulo mas largo\n",
    "longest_title = \"\"\n",
    "for title in titles:\n",
    "    if len(title) > len(longest_title):\n",
    "        longest_title = title\n",
    "print(\"El título más largo es: \"+longest_title)"
   ]
  },
  {
   "cell_type": "markdown",
   "metadata": {},
   "source": [
    "3. Código de conducta\n",
    " Dado un código de conducta para un servidor de Discord:\n",
    " rules = \"\"\"Respeta a los demás. No se permiten insultos ni lenguaje\n",
    " ofensivo.\n",
    " Evita el spam. No publiques enlaces sospechosos o repetitivos.\n",
    " No compartas información personal.\n",
    " Usa los canales adecuados para cada tema.\n",
    " Sigue las instrucciones de los moderadores.\"\"\"\n",
    " Solicite una palabra clave al usuario e imprima todas las reglas que la contengan."
   ]
  },
  {
   "cell_type": "code",
   "execution_count": 26,
   "metadata": {},
   "outputs": [
    {
     "name": "stdout",
     "output_type": "stream",
     "text": [
      "Respeta a los demás. No se permiten insultos ni lenguaje\n",
      " ofensivo.\n",
      " Evita el spam. No publiques enlaces sospechosos o repetitivos.\n",
      " No compartas información personal.\n",
      " Usa los canales adecuados para cada tema.\n",
      " Sigue las instrucciones de los moderadores.\n"
     ]
    }
   ],
   "source": [
    "rules = \"\"\"Respeta a los demás. No se permiten insultos ni lenguaje\n",
    " ofensivo.\n",
    " Evita el spam. No publiques enlaces sospechosos o repetitivos.\n",
    " No compartas información personal.\n",
    " Usa los canales adecuados para cada tema.\n",
    " Sigue las instrucciones de los moderadores.\"\"\"\n",
    "\n",
    "#Solicita palabra clave al usuario\n",
    "palabra = input(\"Ingrese una palabra clave: \")\n",
    "\n",
    "#Busca la palabra clave en las reglas e imprime la regla que la contiene\n",
    "for word in rules.split('\\n'):\n",
    "    if palabra in word:\n",
    "        print(word)"
   ]
  },
  {
   "cell_type": "markdown",
   "metadata": {},
   "source": [
    "4. Validación de nombre de usuario\n",
    " Valide un nombre de usuario con los siguientes criterios:\n",
    " Al menos 5 caracteres.\n",
    " Contiene al menos un número.\n",
    " Contiene al menos una letra mayúscula.\n",
    " Solo puede contener letras y números.\n",
    " Ejemplo de entrada y salida esperada:\n",
    " Ingrese un nombre de usuario: Gamer123\n",
    " El nombre de usuario es válido.\n",
    "Ingrese un nombre de usuario: gamer\n",
    " El nombre de usuario no cumple con los requisitos."
   ]
  },
  {
   "cell_type": "code",
   "execution_count": 27,
   "metadata": {},
   "outputs": [
    {
     "name": "stdout",
     "output_type": "stream",
     "text": [
      "El nombre de usuario no cumple con los requisitos\n"
     ]
    }
   ],
   "source": [
    "#Solicito nombre de usuario\n",
    "usuario = input(\"Ingrese su nombre de usuario: \")\n",
    "\n",
    "#Verifico que tenga al menos 5 caracteres, un numero, una letra mayuscula y solo letras y numeros\n",
    "if len(usuario) < 5:\n",
    "    print(\"El nombre de usuario no cumple con los requisitos\")\n",
    "elif not any(char.isdigit() for char in usuario):\n",
    "    print(\"El nombre de usuario no cumple con los requisitos\")\n",
    "elif not any(char.isupper() for char in usuario):\n",
    "    print(\"El nombre de usuario no cumple con los requisitos\")\n",
    "elif not usuario.isalnum():\n",
    "    print(\"El nombre de usuario no cumple con los requisitos\")\n",
    "else:\n",
    "    print(\"El nombre de usuario es valido\")"
   ]
  },
  {
   "cell_type": "markdown",
   "metadata": {},
   "source": [
    " 6. Análisis de descripciones de una plataforma de stream\n",
    " Dadas varias descripciones de streams en Twitch, cuente cuántas menciones hay de\n",
    " \"entretenimiento\", \"música\" y \"charla\"."
   ]
  },
  {
   "cell_type": "code",
   "execution_count": 28,
   "metadata": {},
   "outputs": [
    {
     "name": "stdout",
     "output_type": "stream",
     "text": [
      "Menciones de música: 4\n",
      "Menciones de charla: 2\n",
      "Menciones de entretenimiento: 1\n"
     ]
    }
   ],
   "source": [
    "descriptions = [\n",
    "\"Streaming de música en vivo con covers y composiciones\",\n",
    " \"Charla interactiva con la audiencia sobre series y películas\",\n",
    " \"Jugamos a juegos retro y charlamos sobre su historia\",\n",
    " \"Exploramos la mejor música de los 80s y 90s\",\n",
    " \"Programa de entretenimiento con noticias y curiosidades del mundo gamer\",\n",
    " \"Sesión de charla con invitados especiales del mundo del streaming\",\n",
    " \"Música en directo con improvisaciones y peticiones del chat\",\n",
    " \"Un espacio para charlar relajada sobre tecnología y cultura digital\",\n",
    " \"Exploramos el impacto de la música en los videojuegos clásicos\"\n",
    " ]\n",
    "\n",
    "#Inicializo contadores\n",
    "cont = {'música': 0,\n",
    "        'charla': 0,\n",
    "        'entretenimiento': 0\n",
    "}\n",
    "\n",
    "#Cuento las ocurrencias de cada palabra\n",
    "for line in descriptions:\n",
    "    word = line.lower().split()\n",
    "    if 'entretenimiento' in word:\n",
    "        cont['entretenimiento'] += 1\n",
    "    if 'música' in word:\n",
    "        cont['música'] += 1\n",
    "    if 'charla' in word:\n",
    "        cont['charla'] += 1\n",
    "\n",
    "#Imprimo el resultado\n",
    "for clave in cont:\n",
    "    print(f\"Menciones de {clave}: {cont[clave]}\")"
   ]
  },
  {
   "cell_type": "markdown",
   "metadata": {},
   "source": [
    "7. Generador de códigos de descuento\n",
    "Genere un código de descuento aleatorio para un usuario en base a su nombre, la fecha\n",
    " actual y el resto deben ser números o letras aleatorias. El código debe tener una longitud de\n",
    " 30 caracteres, todas las letras deben ser mayúsculas.\n",
    " El usuario debe ingresarse por teclado y debe validar que no exeda los 15 caracteres."
   ]
  },
  {
   "cell_type": "code",
   "execution_count": 29,
   "metadata": {},
   "outputs": [
    {
     "name": "stdout",
     "output_type": "stream",
     "text": [
      "Codigo de descuento: JUAN-20041707-JEZOQ62LW1MPD35L\n"
     ]
    }
   ],
   "source": [
    "import random\n",
    "import string\n",
    "\n",
    "user = input(\"Ingrese su nombre de usuario: \")\n",
    "if isValidUser(user):\n",
    "    date = input(\"Ingrese la fecha con formato AAAA-MM-DD: \")\n",
    "    if isValidDate(date):\n",
    "        print(f\"Codigo de descuento: {codeGenerator(user, date)}\")\n"
   ]
  },
  {
   "cell_type": "markdown",
   "metadata": {},
   "source": [
    " 8. Identificación de anagramas\n",
    " Determine si dos palabras ingresadas son anagramas (contienen las mismas letras en\n",
    " diferente orden)."
   ]
  },
  {
   "cell_type": "code",
   "execution_count": 30,
   "metadata": {},
   "outputs": [
    {
     "name": "stdout",
     "output_type": "stream",
     "text": [
      "Las palabras son anagramas\n"
     ]
    }
   ],
   "source": [
    "#Solicito las dos palabras\n",
    "word1 = input(\"Ingrese la primera palabra: \")\n",
    "word2 = input(\"Ingrese la segunda palabra: \")\n",
    "\n",
    "#Verifico si tienen la misma cantidad de letras\n",
    "if len(word1) != len(word2):\n",
    "    print(\"Las palabras no son anagramas\")\n",
    "else:\n",
    "    #Verifico si son anagramas\n",
    "    for char in word1.lower():\n",
    "        if char not in word2.lower():\n",
    "            print(\"Las palabras no son anagramas\")\n",
    "            break\n",
    "    else:\n",
    "        print(\"Las palabras son anagramas\")"
   ]
  },
  {
   "cell_type": "markdown",
   "metadata": {},
   "source": [
    " 9. Limpieza de Datos para un Sistema de Clientes\n",
    " Eres un analista de datos en una empresa que ha recibido una lista de nombres de clientes\n",
    " de distintas fuentes.\n",
    " Sin embargo, estos datos contienen errores, espacios en blanco, nombres repetidos y\n",
    " valores nulos.\n",
    " Tu tarea es desarrollar un sistema que limpie y estandarice estos datos para poder usarlos\n",
    " en el sistema de facturación."
   ]
  },
  {
   "cell_type": "code",
   "execution_count": 31,
   "metadata": {},
   "outputs": [
    {
     "name": "stdout",
     "output_type": "stream",
     "text": [
      " Lista limpia de clientes al realizar todas las operaciones: ['Claudia Torres', 'Patricia Vega', 'Luis Rodríguez', 'Pedro Gómez', 'Gabriela Ruíz', 'María Martínez', 'Damián Castillo', 'Juan Pérez', 'Ricardo Fernández', 'Sandra Morales', 'Monica Herrera', 'Miguel Ángel', 'Andrés Ocampo', 'Maria Martínez', 'Laura Ramos', 'Marta Suárez', 'Alejandro González', 'Carlos Mendes', 'Ana López']\n"
     ]
    }
   ],
   "source": [
    "\n",
    "clients = [\n",
    " \"  Ana López \", \"Pedro Gómez\", \"maria martínez\", \"Pedro Gómez \", \"\",\n",
    " \" Luis Rodríguez \", None, \"ana lópez\", \"JUAN PÉREZ\", \"MARTA SUÁREZ\",\n",
    " \"luis rodríguez\", \"maría martínez \", \" claudia torres\", \"CLAUDIA TORRES\",\n",
    " \"  \", \"pedro gómez\", \"Juan Pérez\", None, \"Ricardo Fernández\", \"LAURA RAMOS\",\n",
    " \"carlos mendes\", \"RICARDO FERNÁNDEZ  \", \" Laura ramos\", \"CARLOS MENDES\",\n",
    " \"alejandro gonzález\", \" ALEJANDRO GONZÁLEZ  \", \"Patricia Vega\",\n",
    " \"patricia VEGA\", \"Andrés Ocampo\", \"  andrés ocampo\", \"Monica Herrera\",\n",
    " \"MONICA HERRERA  \", \"gabriela ruíz\", \"Gabriela Ruíz\", \"sandra morales\",\n",
    " \"SANDRA MORALES\", \"miguel ángel\", \"Miguel Ángel \", \" Damián Castillo\",\n",
    " \"Damián Castillo  \", None, \"\", \"  \"\n",
    " ]\n",
    "\n",
    "print(f\" Lista limpia de clientes al realizar todas las operaciones: {cleaner(clients)}\")\n",
    "\n",
    "\n"
   ]
  }
 ],
 "metadata": {
  "kernelspec": {
   "display_name": "Python 3",
   "language": "python",
   "name": "python3"
  },
  "language_info": {
   "codemirror_mode": {
    "name": "ipython",
    "version": 3
   },
   "file_extension": ".py",
   "mimetype": "text/x-python",
   "name": "python",
   "nbconvert_exporter": "python",
   "pygments_lexer": "ipython3",
   "version": "3.12.9"
  }
 },
 "nbformat": 4,
 "nbformat_minor": 4
}
